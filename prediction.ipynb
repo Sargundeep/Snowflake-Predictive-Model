{
 "cells": [
  {
   "cell_type": "code",
   "execution_count": 1,
   "metadata": {},
   "outputs": [],
   "source": [
    "import pandas as pd\n",
    "import numpy as np\n",
    "from sklearn import metrics\n",
    "from sklearn.ensemble import RandomForestRegressor\n",
    "from sklearn.model_selection import train_test_split\n",
    "from snowflake.snowpark import Session\n",
    "from sklearn.preprocessing import StandardScaler, OrdinalEncoder\n",
    "from sklearn.impute import SimpleImputer\n",
    "from sklearn.compose import ColumnTransformer\n",
    "from sklearn.pipeline import Pipeline\n",
    "from snowflake.snowpark.functions import udf\n",
    "from sklearn.metrics import mean_squared_error\n",
    "from sklearn.metrics import r2_score"
   ]
  },
  {
   "cell_type": "code",
   "execution_count": 2,
   "metadata": {},
   "outputs": [],
   "source": [
    "\n",
    "import snowflake.connector\n",
    "connection_parameters = snowflake.connector.connect(\n",
    "    account= \"on89866.central-india.azure\",\n",
    "    user= \"LTIT4857\",\n",
    "    password = \"Sargun165$\",\n",
    "    role= \"EDP_GEN_ROLE\",\n",
    "    warehouse= \"ACC360_DEV_DE_WH\",\n",
    "    database= \"ACCOUNT360\",\n",
    "    schema= \"ACC360_BI\"\n",
    ")\n"
   ]
  },
  {
   "cell_type": "code",
   "execution_count": 3,
   "metadata": {},
   "outputs": [],
   "source": [
    "# Create a cursor object.\n",
    "cur = connection_parameters.cursor()\n",
    "\n",
    "# Execute a statement that will generate a result set.\n",
    "sql = \"select * from ACC360_SWIPE_MNTH_AGGR_BY_DU_ACC_NAME\"\n",
    "cur.execute(sql)\n",
    "\n",
    "# Fetch the result set from the cursor and deliver it as the Pandas DataFrame.\n",
    "df = cur.fetch_pandas_all()\n"
   ]
  },
  {
   "cell_type": "code",
   "execution_count": 3,
   "metadata": {},
   "outputs": [
    {
     "name": "stdout",
     "output_type": "stream",
     "text": [
      "Requirement already satisfied: snowflake-connector-python[pandas] in c:\\users\\t4857\\appdata\\local\\programs\\python\\python38\\lib\\site-packages (2.7.9)\n",
      "Requirement already satisfied: pyjwt<3.0.0 in c:\\users\\t4857\\appdata\\local\\programs\\python\\python38\\lib\\site-packages (from snowflake-connector-python[pandas]) (2.6.0)\n",
      "Requirement already satisfied: oscrypto<2.0.0 in c:\\users\\t4857\\appdata\\local\\programs\\python\\python38\\lib\\site-packages (from snowflake-connector-python[pandas]) (1.3.0)\n",
      "Requirement already satisfied: asn1crypto<2.0.0,>0.24.0 in c:\\users\\t4857\\appdata\\local\\programs\\python\\python38\\lib\\site-packages (from snowflake-connector-python[pandas]) (1.5.1)\n",
      "Requirement already satisfied: pyOpenSSL<23.0.0,>=16.2.0 in c:\\users\\t4857\\appdata\\local\\programs\\python\\python38\\lib\\site-packages (from snowflake-connector-python[pandas]) (22.0.0)\n",
      "Requirement already satisfied: charset-normalizer~=2.0.0 in c:\\users\\t4857\\appdata\\local\\programs\\python\\python38\\lib\\site-packages (from snowflake-connector-python[pandas]) (2.0.12)\n",
      "Requirement already satisfied: setuptools>34.0.0 in c:\\users\\t4857\\appdata\\local\\programs\\python\\python38\\lib\\site-packages (from snowflake-connector-python[pandas]) (41.2.0)\n",
      "Requirement already satisfied: cryptography<37.0.0,>=3.1.0 in c:\\users\\t4857\\appdata\\local\\programs\\python\\python38\\lib\\site-packages (from snowflake-connector-python[pandas]) (36.0.2)\n",
      "Requirement already satisfied: cffi<2.0.0,>=1.9 in c:\\users\\t4857\\appdata\\local\\programs\\python\\python38\\lib\\site-packages (from snowflake-connector-python[pandas]) (1.15.1)\n",
      "Requirement already satisfied: idna<4,>=2.5 in c:\\users\\t4857\\appdata\\local\\programs\\python\\python38\\lib\\site-packages (from snowflake-connector-python[pandas]) (3.4)\n",
      "Requirement already satisfied: pycryptodomex!=3.5.0,<4.0.0,>=3.2 in c:\\users\\t4857\\appdata\\local\\programs\\python\\python38\\lib\\site-packages (from snowflake-connector-python[pandas]) (3.15.0)\n",
      "Requirement already satisfied: certifi>=2017.4.17 in c:\\users\\t4857\\appdata\\local\\programs\\python\\python38\\lib\\site-packages (from snowflake-connector-python[pandas]) (2022.9.24)\n",
      "Requirement already satisfied: pytz in c:\\users\\t4857\\appdata\\local\\programs\\python\\python38\\lib\\site-packages (from snowflake-connector-python[pandas]) (2022.5)\n",
      "Requirement already satisfied: requests<3.0.0 in c:\\users\\t4857\\appdata\\local\\programs\\python\\python38\\lib\\site-packages (from snowflake-connector-python[pandas]) (2.28.1)\n",
      "Requirement already satisfied: pyarrow<6.1.0,>=6.0.0 in c:\\users\\t4857\\appdata\\local\\programs\\python\\python38\\lib\\site-packages (from snowflake-connector-python[pandas]) (6.0.1)\n",
      "Requirement already satisfied: pandas<1.5.0,>=1.0.0 in c:\\users\\t4857\\appdata\\local\\programs\\python\\python38\\lib\\site-packages (from snowflake-connector-python[pandas]) (1.4.4)\n",
      "Requirement already satisfied: pycparser in c:\\users\\t4857\\appdata\\local\\programs\\python\\python38\\lib\\site-packages (from cffi<2.0.0,>=1.9->snowflake-connector-python[pandas]) (2.21)\n",
      "Requirement already satisfied: numpy>=1.18.5 in c:\\users\\t4857\\appdata\\local\\programs\\python\\python38\\lib\\site-packages (from pandas<1.5.0,>=1.0.0->snowflake-connector-python[pandas]) (1.23.4)\n",
      "Requirement already satisfied: python-dateutil>=2.8.1 in c:\\users\\t4857\\appdata\\local\\programs\\python\\python38\\lib\\site-packages (from pandas<1.5.0,>=1.0.0->snowflake-connector-python[pandas]) (2.8.2)\n",
      "Requirement already satisfied: urllib3<1.27,>=1.21.1 in c:\\users\\t4857\\appdata\\local\\programs\\python\\python38\\lib\\site-packages (from requests<3.0.0->snowflake-connector-python[pandas]) (1.26.12)\n",
      "Requirement already satisfied: six>=1.5 in c:\\users\\t4857\\appdata\\local\\programs\\python\\python38\\lib\\site-packages (from python-dateutil>=2.8.1->pandas<1.5.0,>=1.0.0->snowflake-connector-python[pandas]) (1.16.0)\n"
     ]
    },
    {
     "name": "stderr",
     "output_type": "stream",
     "text": [
      "WARNING: Ignoring invalid distribution -nowflake-connector-python (c:\\users\\t4857\\appdata\\local\\programs\\python\\python38\\lib\\site-packages)\n",
      "WARNING: Ignoring invalid distribution -nowflake-connector-python (c:\\users\\t4857\\appdata\\local\\programs\\python\\python38\\lib\\site-packages)\n",
      "WARNING: Ignoring invalid distribution -nowflake-connector-python (c:\\users\\t4857\\appdata\\local\\programs\\python\\python38\\lib\\site-packages)\n",
      "WARNING: Ignoring invalid distribution -nowflake-connector-python (c:\\users\\t4857\\appdata\\local\\programs\\python\\python38\\lib\\site-packages)\n",
      "WARNING: Ignoring invalid distribution -nowflake-connector-python (c:\\users\\t4857\\appdata\\local\\programs\\python\\python38\\lib\\site-packages)\n",
      "WARNING: Ignoring invalid distribution -nowflake-connector-python (c:\\users\\t4857\\appdata\\local\\programs\\python\\python38\\lib\\site-packages)\n"
     ]
    }
   ],
   "source": [
    "! pip install \"snowflake-connector-python[pandas]\" "
   ]
  },
  {
   "cell_type": "code",
   "execution_count": 4,
   "metadata": {},
   "outputs": [
    {
     "data": {
      "text/html": [
       "<div>\n",
       "<style scoped>\n",
       "    .dataframe tbody tr th:only-of-type {\n",
       "        vertical-align: middle;\n",
       "    }\n",
       "\n",
       "    .dataframe tbody tr th {\n",
       "        vertical-align: top;\n",
       "    }\n",
       "\n",
       "    .dataframe thead th {\n",
       "        text-align: right;\n",
       "    }\n",
       "</style>\n",
       "<table border=\"1\" class=\"dataframe\">\n",
       "  <thead>\n",
       "    <tr style=\"text-align: right;\">\n",
       "      <th></th>\n",
       "      <th>YEAR</th>\n",
       "      <th>MONTH_NAME</th>\n",
       "      <th>DU</th>\n",
       "      <th>ACCOUNT_NAME</th>\n",
       "      <th>BILLED_STATUS</th>\n",
       "      <th>GRADE</th>\n",
       "      <th>SWIPE_CITY</th>\n",
       "      <th>MP_COUNT</th>\n",
       "      <th>HC</th>\n",
       "    </tr>\n",
       "  </thead>\n",
       "  <tbody>\n",
       "    <tr>\n",
       "      <th>0</th>\n",
       "      <td>2022</td>\n",
       "      <td>SEPTEMBER</td>\n",
       "      <td>DATA PU Pool</td>\n",
       "      <td></td>\n",
       "      <td>PU Pool</td>\n",
       "      <td>P5</td>\n",
       "      <td>PUNE</td>\n",
       "      <td>1</td>\n",
       "      <td>1512.000000</td>\n",
       "    </tr>\n",
       "    <tr>\n",
       "      <th>1</th>\n",
       "      <td>2022</td>\n",
       "      <td>SEPTEMBER</td>\n",
       "      <td>DATA CoE &amp; Support</td>\n",
       "      <td>null</td>\n",
       "      <td>PU Management Support</td>\n",
       "      <td>G-1-3</td>\n",
       "      <td>MUMBAI</td>\n",
       "      <td>1</td>\n",
       "      <td>903.000000</td>\n",
       "    </tr>\n",
       "    <tr>\n",
       "      <th>2</th>\n",
       "      <td>2022</td>\n",
       "      <td>SEPTEMBER</td>\n",
       "      <td>LF-Unbilled</td>\n",
       "      <td>JOHNSON &amp; JOHNSON</td>\n",
       "      <td>Billed</td>\n",
       "      <td>P2</td>\n",
       "      <td>MUMBAI</td>\n",
       "      <td>16</td>\n",
       "      <td>903.000000</td>\n",
       "    </tr>\n",
       "    <tr>\n",
       "      <th>3</th>\n",
       "      <td>2022</td>\n",
       "      <td>OCTOBER</td>\n",
       "      <td>LF-Unbilled</td>\n",
       "      <td>JOHNSON &amp; JOHNSON</td>\n",
       "      <td>Billed</td>\n",
       "      <td>P2</td>\n",
       "      <td>PUNE</td>\n",
       "      <td>3</td>\n",
       "      <td>1543.000000</td>\n",
       "    </tr>\n",
       "    <tr>\n",
       "      <th>4</th>\n",
       "      <td>2022</td>\n",
       "      <td>APRIL</td>\n",
       "      <td>S1</td>\n",
       "      <td>INSURITY</td>\n",
       "      <td>Billed</td>\n",
       "      <td>P3</td>\n",
       "      <td>MUMBAI</td>\n",
       "      <td>1</td>\n",
       "      <td>993.000000</td>\n",
       "    </tr>\n",
       "  </tbody>\n",
       "</table>\n",
       "</div>"
      ],
      "text/plain": [
       "   YEAR MONTH_NAME                  DU       ACCOUNT_NAME  \\\n",
       "0  2022  SEPTEMBER        DATA PU Pool                      \n",
       "1  2022  SEPTEMBER  DATA CoE & Support               null   \n",
       "2  2022  SEPTEMBER         LF-Unbilled  JOHNSON & JOHNSON   \n",
       "3  2022    OCTOBER         LF-Unbilled  JOHNSON & JOHNSON   \n",
       "4  2022      APRIL                  S1           INSURITY   \n",
       "\n",
       "           BILLED_STATUS  GRADE SWIPE_CITY  MP_COUNT           HC  \n",
       "0                PU Pool     P5       PUNE         1  1512.000000  \n",
       "1  PU Management Support  G-1-3     MUMBAI         1   903.000000  \n",
       "2                 Billed     P2     MUMBAI        16   903.000000  \n",
       "3                 Billed     P2       PUNE         3  1543.000000  \n",
       "4                 Billed     P3     MUMBAI         1   993.000000  "
      ]
     },
     "execution_count": 4,
     "metadata": {},
     "output_type": "execute_result"
    }
   ],
   "source": [
    "df.head(5)"
   ]
  },
  {
   "cell_type": "code",
   "execution_count": 5,
   "metadata": {},
   "outputs": [
    {
     "name": "stdout",
     "output_type": "stream",
     "text": [
      "Index(['YEAR', 'MONTH_NAME', 'DU', 'ACCOUNT_NAME', 'BILLED_STATUS', 'GRADE',\n",
      "       'SWIPE_CITY', 'MP_COUNT', 'HC'],\n",
      "      dtype='object')\n"
     ]
    }
   ],
   "source": [
    "print((df.columns))"
   ]
  },
  {
   "cell_type": "code",
   "execution_count": 6,
   "metadata": {},
   "outputs": [
    {
     "name": "stdout",
     "output_type": "stream",
     "text": [
      "YEAR              string\n",
      "MONTH_NAME        string\n",
      "DU                string\n",
      "ACCOUNT_NAME      string\n",
      "BILLED_STATUS     string\n",
      "GRADE             string\n",
      "SWIPE_CITY        string\n",
      "MP_COUNT           Int64\n",
      "HC               float64\n",
      "dtype: object\n"
     ]
    }
   ],
   "source": [
    "result = df.dtypes\n",
    "df = df.convert_dtypes()\n",
    "df[\"HC\"] = pd.to_numeric(df[\"HC\"])\n",
    "df[\"HC\"] = pd.to_numeric(df[\"HC\"])\n",
    "print(df.dtypes)"
   ]
  },
  {
   "cell_type": "code",
   "execution_count": 7,
   "metadata": {},
   "outputs": [
    {
     "name": "stdout",
     "output_type": "stream",
     "text": [
      "YEAR             string\n",
      "MONTH_NAME       string\n",
      "DU               string\n",
      "ACCOUNT_NAME     string\n",
      "BILLED_STATUS    string\n",
      "GRADE            string\n",
      "SWIPE_CITY       string\n",
      "MP_COUNT          Int64\n",
      "HC                Int64\n",
      "dtype: object\n"
     ]
    }
   ],
   "source": [
    "result = df.dtypes\n",
    "df = df.convert_dtypes()\n",
    "df[\"HC\"] = pd.to_numeric(df[\"HC\"])\n",
    "df[\"HC\"] = pd.to_numeric(df[\"HC\"])\n",
    "print(df.dtypes)"
   ]
  },
  {
   "cell_type": "code",
   "execution_count": 8,
   "metadata": {},
   "outputs": [
    {
     "name": "stdout",
     "output_type": "stream",
     "text": [
      "YEAR             string\n",
      "MONTH_NAME       string\n",
      "DU               string\n",
      "ACCOUNT_NAME     string\n",
      "BILLED_STATUS    string\n",
      "GRADE            string\n",
      "SWIPE_CITY       string\n",
      "MP_COUNT          Int64\n",
      "HC                Int64\n",
      "dtype: object\n"
     ]
    },
    {
     "data": {
      "text/html": [
       "<div>\n",
       "<style scoped>\n",
       "    .dataframe tbody tr th:only-of-type {\n",
       "        vertical-align: middle;\n",
       "    }\n",
       "\n",
       "    .dataframe tbody tr th {\n",
       "        vertical-align: top;\n",
       "    }\n",
       "\n",
       "    .dataframe thead th {\n",
       "        text-align: right;\n",
       "    }\n",
       "</style>\n",
       "<table border=\"1\" class=\"dataframe\">\n",
       "  <thead>\n",
       "    <tr style=\"text-align: right;\">\n",
       "      <th></th>\n",
       "      <th>YEAR</th>\n",
       "      <th>MONTH_NAME</th>\n",
       "      <th>DU</th>\n",
       "      <th>ACCOUNT_NAME</th>\n",
       "      <th>BILLED_STATUS</th>\n",
       "      <th>GRADE</th>\n",
       "      <th>SWIPE_CITY</th>\n",
       "      <th>MP_COUNT</th>\n",
       "      <th>HC</th>\n",
       "    </tr>\n",
       "  </thead>\n",
       "  <tbody>\n",
       "    <tr>\n",
       "      <th>0</th>\n",
       "      <td>2022</td>\n",
       "      <td>SEPTEMBER</td>\n",
       "      <td>DATA PU Pool</td>\n",
       "      <td></td>\n",
       "      <td>PU Pool</td>\n",
       "      <td>P5</td>\n",
       "      <td>PUNE</td>\n",
       "      <td>1</td>\n",
       "      <td>1512</td>\n",
       "    </tr>\n",
       "    <tr>\n",
       "      <th>1</th>\n",
       "      <td>2022</td>\n",
       "      <td>SEPTEMBER</td>\n",
       "      <td>DATA CoE &amp; Support</td>\n",
       "      <td>null</td>\n",
       "      <td>PU Management Support</td>\n",
       "      <td>G-1-3</td>\n",
       "      <td>MUMBAI</td>\n",
       "      <td>1</td>\n",
       "      <td>903</td>\n",
       "    </tr>\n",
       "    <tr>\n",
       "      <th>2</th>\n",
       "      <td>2022</td>\n",
       "      <td>SEPTEMBER</td>\n",
       "      <td>LF-Unbilled</td>\n",
       "      <td>JOHNSON &amp; JOHNSON</td>\n",
       "      <td>Billed</td>\n",
       "      <td>P2</td>\n",
       "      <td>MUMBAI</td>\n",
       "      <td>16</td>\n",
       "      <td>903</td>\n",
       "    </tr>\n",
       "    <tr>\n",
       "      <th>3</th>\n",
       "      <td>2022</td>\n",
       "      <td>OCTOBER</td>\n",
       "      <td>LF-Unbilled</td>\n",
       "      <td>JOHNSON &amp; JOHNSON</td>\n",
       "      <td>Billed</td>\n",
       "      <td>P2</td>\n",
       "      <td>PUNE</td>\n",
       "      <td>3</td>\n",
       "      <td>1543</td>\n",
       "    </tr>\n",
       "    <tr>\n",
       "      <th>4</th>\n",
       "      <td>2022</td>\n",
       "      <td>APRIL</td>\n",
       "      <td>S1</td>\n",
       "      <td>INSURITY</td>\n",
       "      <td>Billed</td>\n",
       "      <td>P3</td>\n",
       "      <td>MUMBAI</td>\n",
       "      <td>1</td>\n",
       "      <td>993</td>\n",
       "    </tr>\n",
       "  </tbody>\n",
       "</table>\n",
       "</div>"
      ],
      "text/plain": [
       "   YEAR MONTH_NAME                  DU       ACCOUNT_NAME  \\\n",
       "0  2022  SEPTEMBER        DATA PU Pool                      \n",
       "1  2022  SEPTEMBER  DATA CoE & Support               null   \n",
       "2  2022  SEPTEMBER         LF-Unbilled  JOHNSON & JOHNSON   \n",
       "3  2022    OCTOBER         LF-Unbilled  JOHNSON & JOHNSON   \n",
       "4  2022      APRIL                  S1           INSURITY   \n",
       "\n",
       "           BILLED_STATUS  GRADE SWIPE_CITY  MP_COUNT    HC  \n",
       "0                PU Pool     P5       PUNE         1  1512  \n",
       "1  PU Management Support  G-1-3     MUMBAI         1   903  \n",
       "2                 Billed     P2     MUMBAI        16   903  \n",
       "3                 Billed     P2       PUNE         3  1543  \n",
       "4                 Billed     P3     MUMBAI         1   993  "
      ]
     },
     "execution_count": 8,
     "metadata": {},
     "output_type": "execute_result"
    }
   ],
   "source": [
    "result = df.dtypes\n",
    "print(result)\n",
    "df.head()"
   ]
  },
  {
   "cell_type": "code",
   "execution_count": 9,
   "metadata": {},
   "outputs": [
    {
     "name": "stdout",
     "output_type": "stream",
     "text": [
      "1.7614014251781474\n"
     ]
    }
   ],
   "source": [
    "AVG = df[\"MP_COUNT\"].mean()\n",
    "print(AVG)"
   ]
  },
  {
   "cell_type": "code",
   "execution_count": 10,
   "metadata": {},
   "outputs": [],
   "source": [
    "# DEFINE WHICH COLUMNS ARE NUMERIC AND WHICH ARE CATEGORICAL\n",
    "categorical = []\n",
    "numerical = []\n",
    "for i in df.columns:\n",
    "    if (df[i].dtypes == \"string\"):\n",
    "        categorical.append(i)\n",
    "    else:\n",
    "        numerical.append(i)"
   ]
  },
  {
   "cell_type": "code",
   "execution_count": 11,
   "metadata": {},
   "outputs": [],
   "source": [
    "##Split data into test and train\n",
    "x = df.drop('MP_COUNT', axis=1)\n",
    "y = df['MP_COUNT']\n",
    "x_train, x_test, y_train, y_test = train_test_split(\n",
    "    x, y,\n",
    "    test_size=0.2,\n",
    "    random_state=0\n",
    ")"
   ]
  },
  {
   "cell_type": "code",
   "execution_count": 12,
   "metadata": {},
   "outputs": [
    {
     "name": "stdout",
     "output_type": "stream",
     "text": [
      "CATCOL 7\n",
      "NUMVAR 1\n",
      "9\n",
      "      YEAR MONTH_NAME                  DU            ACCOUNT_NAME  \\\n",
      "143   2022       JULY                  C2                CATALENT   \n",
      "6267  2022        MAY         ID-Unbilled              ICICI BANK   \n",
      "7425  2022    OCTOBER         ID-Unbilled              ICICI BANK   \n",
      "5210  2022       JULY         HH-Unbilled                   CISCO   \n",
      "5740  2022      APRIL        DATA PU Pool                           \n",
      "...    ...        ...                 ...                     ...   \n",
      "4373  2022       JULY                  C1                 L’OREAL   \n",
      "7891  2022       JULY                  B1                    ABSA   \n",
      "4859  2022      MARCH  DATA CoE & Support                           \n",
      "3264  2022      APRIL                  C1              SERVICENOW   \n",
      "2732  2022     AUGUST         BF-Unbilled  FIDELITY INTERNATIONAL   \n",
      "\n",
      "              BILLED_STATUS GRADE SWIPE_CITY    HC  \n",
      "143                  Billed    P1  BANGALORE  1036  \n",
      "6267                 Billed    P4     MUMBAI   918  \n",
      "7425           Account Pool    P1       PUNE  1543  \n",
      "5210                 Billed    M4  HYDERABAD  1348  \n",
      "5740                PU Pool    P4       PUNE  1339  \n",
      "...                     ...   ...        ...   ...  \n",
      "4373                 Billed    P3    CHENNAI   704  \n",
      "7891                 Billed    P2     MUMBAI   887  \n",
      "4859  PU Management Support    P6  BANGALORE  1020  \n",
      "3264                 Billed    P1     MUMBAI   993  \n",
      "2732                 Billed    P3  BANGALORE  1085  \n",
      "\n",
      "[6736 rows x 8 columns] 143     2\n",
      "6267    1\n",
      "7425    2\n",
      "5210    1\n",
      "5740    2\n",
      "       ..\n",
      "4373    1\n",
      "7891    1\n",
      "4859    5\n",
      "3264    1\n",
      "2732    1\n",
      "Name: MP_COUNT, Length: 6736, dtype: Int64       YEAR MONTH_NAME                  DU                  ACCOUNT_NAME  \\\n",
      "7632  2022    OCTOBER         BF-Unbilled                       CITIFOX   \n",
      "1091  2022    OCTOBER        DATA PU Pool                    ICICI BANK   \n",
      "5992  2022     AUGUST         MN-Unbilled                        SCANIA   \n",
      "2063  2022      MARCH                  M1                       CLARIOS   \n",
      "8304  2022    JANUARY                  S1  BB&T INSURANCE HOLDINGS INC.   \n",
      "...    ...        ...                 ...                           ...   \n",
      "8095  2022       JULY         RE-Unbilled      INTERIOR SPECIALISTS INC   \n",
      "5412  2022       JUNE         HH-Unbilled                         CISCO   \n",
      "8057  2022       JULY  DATA CoE & Support                                 \n",
      "2717  2022  SEPTEMBER         MN-Unbilled                          OTIS   \n",
      "1815  2022    OCTOBER         LF-Unbilled             JOHNSON & JOHNSON   \n",
      "\n",
      "              BILLED_STATUS GRADE SWIPE_CITY    HC  \n",
      "7632                 Billed    P4     MUMBAI   932  \n",
      "1091                 Billed    P4     MUMBAI   932  \n",
      "5992                 Buffer    P1    CHENNAI   759  \n",
      "2063                 Billed    P2       PUNE  1331  \n",
      "8304                 Billed    P3       PUNE  1260  \n",
      "...                     ...   ...        ...   ...  \n",
      "8095                 Billed    P1  BANGALORE  1036  \n",
      "5412                 Billed    P3  HYDERABAD  1219  \n",
      "8057  PU Management Support    P7     MUMBAI   887  \n",
      "2717                 Billed    P3       PUNE  1512  \n",
      "1815                 Billed    M5     MUMBAI   932  \n",
      "\n",
      "[1684 rows x 8 columns] 7632    1\n",
      "1091    1\n",
      "5992    1\n",
      "2063    1\n",
      "8304    1\n",
      "       ..\n",
      "8095    1\n",
      "5412    4\n",
      "8057    1\n",
      "2717    4\n",
      "1815    1\n",
      "Name: MP_COUNT, Length: 1684, dtype: Int64\n"
     ]
    }
   ],
   "source": [
    "##CHECK WHETHER ALL COLUMNS ARE INCLUDED IN THE CATEGORICAL AND NUMERICAL (LEN(CAT)) + ((LEN(NUM)+1) == LEN(DF.COLUMNS)\n",
    "##POSSIBLE ADDITION, ERROR MESSAGE IF LENCAT+LENNUM != LEN(DF.COLUMNS)\n",
    "print(\"CATCOL\", len(categorical))\n",
    "numerical.remove('MP_COUNT')\n",
    "print(\"NUMVAR\", len(numerical))\n",
    "print(len(df.columns))\n",
    "##PRINTING THE TRAIN AND TEST DATA TO CHECK IF IT IS SPLIT CORRECTLY\n",
    "print(x_train, y_train, x_test, y_test)\n",
    "\n",
    "##CREATE PIPELINE PREPROCESSOR FOR NUMERICAL TRANSFORMATION WHERE WE STANDARDISE NUMERIC FEATURES\n",
    "##IF ANY MISSING VALUES, THEY ARE REPLACED BY MEAN\n",
    "numeric_trans = Pipeline(steps=[\n",
    "    ('imputer', SimpleImputer(strategy='mean')),\n",
    "    ('scaler', StandardScaler())\n",
    "])\n",
    "##CREATE PIPELINE PREPROCESSOR FOR CATEGORICAL FEATURES TO BE ENCODED SO THAT IT CAN BE INTERPRETED BY SKLEARN\n",
    "##IF CATEGORICAL COLUMN IS NAN, IT WILL BE REPLACED WITH DEFAULT '0' CONSTANT, ELSE IT WILL BE ENCODED INTO INT VALUES\n",
    "\n",
    "categorical_trans = Pipeline(steps=[\n",
    "    ('imputer', SimpleImputer(strategy='constant')),\n",
    "    ('encoder', OrdinalEncoder(handle_unknown='use_encoded_value', unknown_value=-1))\n",
    "])\n",
    "\n",
    "##APPLY THE TRANSFORMERS TO THE FEATURES USING ColumnTransformer() WHERE WE PASS A LIST OF TUPLES TO THE PARAMETER OF transformrs\n",
    "preprocessor = ColumnTransformer(\n",
    "    transformers=[\n",
    "        ('numeric', numeric_trans, numerical),\n",
    "        ('categorical', categorical_trans, categorical)\n",
    "    ]\n",
    ")"
   ]
  },
  {
   "cell_type": "code",
   "execution_count": 13,
   "metadata": {},
   "outputs": [
    {
     "name": "stdout",
     "output_type": "stream",
     "text": [
      "      YEAR MONTH_NAME                  DU                  ACCOUNT_NAME  \\\n",
      "7632  2022    OCTOBER         BF-Unbilled                       CITIFOX   \n",
      "1091  2022    OCTOBER        DATA PU Pool                    ICICI BANK   \n",
      "5992  2022     AUGUST         MN-Unbilled                        SCANIA   \n",
      "2063  2022      MARCH                  M1                       CLARIOS   \n",
      "8304  2022    JANUARY                  S1  BB&T INSURANCE HOLDINGS INC.   \n",
      "...    ...        ...                 ...                           ...   \n",
      "8095  2022       JULY         RE-Unbilled      INTERIOR SPECIALISTS INC   \n",
      "5412  2022       JUNE         HH-Unbilled                         CISCO   \n",
      "8057  2022       JULY  DATA CoE & Support                                 \n",
      "2717  2022  SEPTEMBER         MN-Unbilled                          OTIS   \n",
      "1815  2022    OCTOBER         LF-Unbilled             JOHNSON & JOHNSON   \n",
      "\n",
      "              BILLED_STATUS GRADE SWIPE_CITY    HC  \n",
      "7632                 Billed    P4     MUMBAI   932  \n",
      "1091                 Billed    P4     MUMBAI   932  \n",
      "5992                 Buffer    P1    CHENNAI   759  \n",
      "2063                 Billed    P2       PUNE  1331  \n",
      "8304                 Billed    P3       PUNE  1260  \n",
      "...                     ...   ...        ...   ...  \n",
      "8095                 Billed    P1  BANGALORE  1036  \n",
      "5412                 Billed    P3  HYDERABAD  1219  \n",
      "8057  PU Management Support    P7     MUMBAI   887  \n",
      "2717                 Billed    P3       PUNE  1512  \n",
      "1815                 Billed    M5     MUMBAI   932  \n",
      "\n",
      "[1684 rows x 8 columns]\n"
     ]
    }
   ],
   "source": [
    "print(x_test)"
   ]
  },
  {
   "cell_type": "code",
   "execution_count": 16,
   "metadata": {},
   "outputs": [],
   "source": [
    "##ADD ESTIMATOR TO A PIPELINE, FOR THIS USE-CASE, A RANDOMFORESTCLASSIFIER IS OPTIMAL SINCE WE NEED TO USE A\n",
    "##CLASSIFIER AS THE OUTPUT IS CATEGORICAL (ATTRITION=1, ATTRITION=0) AND NOT A CONTINUOUS VALUE SUCH AS\n",
    "##PRODUCTIVITY VALUE, SALARY, AGE, ETC. IN THE CASE THAT WE NEEDED TO PREDICT CONTINUOUS VALUES WE WOULD USE REGRESSORS\n",
    "\n",
    "##RFC IS THE CLASSIFIER WE TESTED THAT HAD THE BEST ACCURACY ON THIS DATASET\n",
    "\n",
    "pipeline = Pipeline(steps=[\n",
    "    ('preprocessor', preprocessor),\n",
    "    ('regressor', RandomForestRegressor(n_estimators = 100, random_state = 26))\n",
    "])\n",
    "\n",
    "##FIT ML MODEL TRAINING DATA INTO PIPELINE\n",
    "rfcmodel = pipeline.fit(x_train, y_train)\n"
   ]
  },
  {
   "cell_type": "code",
   "execution_count": 17,
   "metadata": {},
   "outputs": [],
   "source": [
    "predictions = rfcmodel.predict(x_test)"
   ]
  },
  {
   "cell_type": "code",
   "execution_count": 18,
   "metadata": {},
   "outputs": [
    {
     "name": "stdout",
     "output_type": "stream",
     "text": [
      "RFC MODEL \n",
      " Pipeline(steps=[('preprocessor',\n",
      "                 ColumnTransformer(transformers=[('numeric',\n",
      "                                                  Pipeline(steps=[('imputer',\n",
      "                                                                   SimpleImputer()),\n",
      "                                                                  ('scaler',\n",
      "                                                                   StandardScaler())]),\n",
      "                                                  ['HC']),\n",
      "                                                 ('categorical',\n",
      "                                                  Pipeline(steps=[('imputer',\n",
      "                                                                   SimpleImputer(strategy='constant')),\n",
      "                                                                  ('encoder',\n",
      "                                                                   OrdinalEncoder(handle_unknown='use_encoded_value',\n",
      "                                                                                  unknown_value=-1))]),\n",
      "                                                  ['YEAR', 'MONTH_NAME', 'DU',\n",
      "                                                   'ACCOUNT_NAME',\n",
      "                                                   'BILLED_STATUS', 'GRADE',\n",
      "                                                   'SWIPE_CITY'])])),\n",
      "                ('regressor', RandomForestRegressor(random_state=26))])\n",
      "[1, 1, 1, 1, 1, 1, 1, 1, 2, 1, 1, 5, 1, 1, 7, 2, 1, 1, 1, 1, 1, 1, 4, 1, 1, 1, 2, 2, 2, 2, 1, 2, 1, 1, 1, 1, 1, 1, 1, 1, 1, 2, 12, 9, 2, 1, 1, 1, 1, 1, 1, 1, 1, 1, 2, 1, 1, 1, 1, 2, 2, 1, 2, 2, 1, 2, 2, 1, 2, 1, 2, 5, 4, 1, 1, 1, 2, 3, 1, 1, 1, 4, 1, 1, 1, 1, 2, 2, 2, 1, 1, 2, 1, 1, 2, 1, 3, 1, 1, 1, 2, 1, 3, 1, 1, 2, 1, 2, 3, 1, 1, 1, 1, 1, 1, 1, 5, 2, 1, 1, 2, 1, 1, 1, 2, 5, 1, 2, 1, 6, 1, 3, 3, 2, 1, 2, 1, 1, 1, 1, 2, 2, 1, 1, 1, 1, 1, 1, 2, 1, 2, 1, 2, 1, 2, 1, 1, 1, 1, 1, 1, 1, 1, 2, 1, 2, 2, 7, 1, 1, 1, 3, 1, 1, 1, 1, 2, 2, 2, 1, 1, 1, 1, 2, 1, 2, 1, 2, 1, 1, 1, 4, 7, 1, 1, 2, 1, 1, 2, 1, 2, 1, 1, 3, 1, 1, 1, 2, 2, 1, 1, 1, 1, 1, 1, 4, 3, 5, 1, 2, 1, 1, 2, 1, 1, 2, 1, 1, 1, 2, 1, 1, 1, 1, 1, 5, 1, 1, 1, 1, 1, 1, 1, 1, 1, 1, 1, 1, 7, 1, 1, 2, 3, 2, 3, 8, 1, 1, 1, 1, 1, 1, 1, 1, 1, 2, 1, 4, 1, 1, 2, 1, 1, 1, 7, 1, 1, 2, 1, 1, 2, 1, 1, 2, 10, 1, 1, 1, 1, 1, 1, 1, 2, 2, 1, 1, 1, 1, 1, 1, 1, 1, 2, 1, 16, 2, 2, 1, 1, 1, 1, 1, 1, 1, 1, 2, 1, 1, 1, 1, 2, 1, 1, 2, 2, 1, 2, 2, 2, 1, 1, 1, 3, 1, 11, 1, 1, 1, 1, 2, 1, 5, 1, 1, 2, 1, 2, 1, 3, 1, 2, 1, 1, 4, 1, 1, 2, 1, 1, 1, 1, 1, 1, 1, 1, 1, 1, 1, 1, 3, 1, 1, 1, 1, 1, 2, 4, 3, 1, 1, 1, 1, 8, 1, 1, 1, 3, 1, 1, 4, 1, 1, 1, 1, 4, 2, 1, 4, 1, 1, 1, 1, 1, 5, 1, 1, 11, 1, 5, 1, 1, 1, 2, 2, 1, 1, 1, 1, 1, 1, 1, 2, 1, 1, 1, 1, 1, 1, 1, 1, 1, 2, 1, 2, 8, 2, 2, 1, 2, 2, 2, 1, 1, 1, 1, 1, 1, 2, 1, 1, 1, 1, 1, 1, 1, 1, 1, 1, 2, 1, 1, 1, 1, 2, 1, 1, 2, 2, 1, 1, 4, 1, 1, 1, 2, 1, 2, 1, 8, 1, 5, 2, 1, 1, 1, 1, 1, 1, 3, 1, 1, 1, 6, 1, 1, 1, 1, 2, 2, 5, 1, 3, 1, 1, 2, 1, 2, 2, 1, 1, 1, 2, 1, 6, 1, 2, 1, 3, 1, 1, 1, 4, 1, 1, 1, 2, 1, 1, 2, 1, 1, 1, 2, 1, 1, 5, 2, 10, 1, 1, 11, 1, 1, 2, 22, 1, 1, 1, 1, 1, 1, 1, 1, 2, 1, 1, 1, 1, 12, 2, 1, 2, 3, 1, 3, 1, 1, 1, 1, 1, 1, 16, 1, 1, 1, 2, 1, 1, 11, 1, 2, 1, 2, 2, 1, 1, 2, 1, 1, 1, 1, 1, 2, 1, 12, 1, 1, 1, 1, 1, 3, 13, 2, 2, 1, 1, 1, 2, 3, 1, 1, 2, 14, 1, 1, 1, 1, 1, 2, 2, 1, 2, 1, 1, 3, 2, 14, 1, 1, 1, 3, 1, 1, 1, 2, 1, 2, 1, 1, 1, 1, 1, 1, 1, 1, 5, 1, 1, 1, 28, 1, 1, 1, 1, 2, 2, 1, 1, 2, 1, 5, 1, 1, 1, 1, 1, 1, 1, 3, 3, 2, 1, 2, 2, 1, 1, 2, 1, 1, 2, 1, 1, 1, 1, 2, 1, 1, 1, 1, 2, 1, 1, 2, 1, 31, 1, 1, 2, 2, 1, 2, 3, 1, 2, 1, 1, 3, 3, 1, 4, 2, 2, 1, 3, 1, 2, 2, 1, 1, 1, 1, 2, 1, 3, 1, 1, 2, 1, 1, 1, 2, 1, 1, 11, 2, 1, 4, 1, 1, 1, 1, 1, 1, 3, 2, 2, 1, 1, 1, 1, 2, 7, 1, 1, 1, 2, 2, 1, 2, 2, 1, 1, 1, 1, 1, 2, 8, 2, 2, 2, 1, 3, 1, 1, 1, 2, 1, 7, 1, 1, 1, 2, 1, 1, 2, 2, 1, 1, 2, 1, 1, 1, 1, 2, 1, 1, 3, 1, 1, 1, 3, 1, 1, 1, 3, 1, 1, 3, 1, 1, 1, 1, 1, 3, 1, 1, 1, 1, 6, 1, 1, 1, 1, 3, 1, 2, 1, 1, 1, 2, 2, 1, 2, 1, 2, 1, 2, 1, 1, 1, 1, 3, 1, 2, 1, 2, 1, 1, 1, 1, 20, 2, 2, 1, 1, 1, 1, 4, 1, 1, 3, 1, 1, 1, 2, 1, 1, 1, 2, 1, 1, 3, 1, 1, 1, 2, 1, 2, 1, 2, 2, 1, 3, 3, 2, 1, 1, 2, 3, 1, 6, 2, 2, 1, 1, 2, 1, 2, 1, 2, 1, 2, 1, 2, 2, 1, 1, 1, 1, 1, 1, 2, 1, 1, 1, 1, 1, 1, 1, 1, 2, 2, 5, 1, 2, 1, 1, 1, 2, 1, 1, 1, 1, 1, 4, 1, 1, 2, 1, 1, 1, 2, 1, 2, 2, 4, 1, 1, 2, 4, 1, 3, 1, 3, 1, 1, 1, 1, 1, 2, 1, 29, 2, 5, 1, 2, 1, 1, 1, 1, 2, 1, 1, 2, 2, 1, 1, 1, 1, 1, 1, 1, 1, 2, 12, 1, 1, 1, 1, 1, 1, 1, 1, 1, 1, 1, 1, 1, 5, 1, 1, 4, 1, 4, 1, 1, 1, 2, 1, 3, 2, 1, 1, 4, 1, 1, 6, 5, 1, 1, 1, 1, 2, 1, 2, 1, 3, 2, 9, 1, 2, 1, 1, 1, 3, 1, 1, 1, 2, 1, 1, 1, 2, 1, 3, 1, 1, 1, 1, 6, 12, 1, 1, 1, 1, 1, 1, 1, 1, 1, 1, 1, 2, 2, 5, 1, 1, 2, 2, 1, 3, 3, 1, 3, 1, 1, 4, 1, 3, 1, 4, 1, 9, 3, 1, 1, 1, 2, 1, 1, 3, 2, 1, 1, 2, 6, 1, 1, 2, 2, 1, 1, 1, 2, 2, 2, 1, 1, 1, 1, 1, 1, 1, 1, 2, 1, 1, 2, 1, 1, 2, 6, 1, 5, 1, 1, 1, 1, 1, 1, 1, 2, 1, 1, 1, 1, 1, 4, 3, 1, 1, 25, 1, 1, 1, 1, 2, 1, 1, 1, 2, 2, 1, 2, 1, 1, 3, 1, 2, 1, 1, 1, 2, 3, 1, 1, 1, 2, 2, 1, 1, 1, 3, 2, 1, 1, 1, 1, 1, 1, 1, 1, 2, 1, 1, 1, 1, 1, 1, 2, 1, 1, 2, 3, 1, 1, 1, 2, 1, 1, 4, 1, 1, 1, 1, 2, 6, 1, 3, 1, 1, 2, 1, 1, 1, 1, 4, 1, 1, 1, 1, 1, 2, 2, 2, 1, 1, 1, 1, 1, 2, 1, 1, 1, 2, 1, 1, 1, 1, 1, 2, 1, 1, 2, 1, 1, 1, 1, 1, 3, 1, 2, 1, 1, 1, 1, 1, 2, 2, 2, 1, 13, 1, 2, 1, 1, 1, 1, 2, 2, 1, 2, 1, 1, 6, 1, 4, 1, 1, 1, 2, 4, 1, 1, 1, 1, 1, 1, 1, 1, 1, 1, 1, 1, 1, 1, 1, 1, 1, 1, 2, 1, 2, 1, 1, 1, 2, 4, 1, 1, 2, 4, 1, 1, 1, 2, 1, 1, 3, 3, 1, 1, 2, 1, 1, 1, 1, 1, 1, 1, 1, 4, 1, 2, 1, 1, 1, 2, 6, 1, 2, 2, 2, 1, 1, 1, 2, 1, 1, 1, 1, 2, 1, 2, 1, 1, 2, 1, 1, 1, 10, 1, 1, 1, 2, 1, 1, 1, 1, 1, 1, 2, 5, 3, 1, 1, 2, 1, 1, 1, 1, 1, 1, 1, 4, 2, 1, 1, 5, 2, 1, 11, 1, 1, 1, 1, 1, 1, 2, 9, 8, 1, 1, 1, 2, 1, 18, 12, 2, 2, 1, 2, 1, 3, 2, 1, 1, 4, 1, 15, 1, 1, 5, 2, 1, 2, 1, 2, 1, 1, 2, 2, 1, 9, 2, 1, 1, 2, 1, 2, 2, 20, 1, 1, 2, 1, 2, 1, 1, 1, 1, 1, 1, 1, 1, 1, 2, 1, 1, 1, 2, 1, 2, 1, 1, 1, 1, 1, 1, 1, 1, 2, 1, 1, 1, 1, 2, 1, 1, 1, 4, 1, 1, 1, 1, 4, 2, 1, 1, 1, 1, 2, 2, 1, 1, 2, 2, 2, 1, 1, 1, 1, 2, 2, 1, 1, 1, 1, 1, 2, 1, 2, 2, 1, 1, 1, 1, 1, 2, 1, 1, 2, 1, 1, 2, 1, 1, 1, 1, 2, 2, 1, 1, 1, 1, 1, 1, 3, 1, 1, 1, 1, 1, 2, 1, 1, 1, 5, 1, 2, 1, 2, 1, 2, 4, 1, 5, 1, 2, 1, 1, 1, 2, 1, 1, 7, 1, 1, 1, 1, 2, 2, 2, 2, 1, 1, 1, 2, 1, 1, 1, 2, 5, 3, 2, 1, 1, 2, 1, 1, 2, 2, 1, 3, 1, 2, 1, 4, 1, 1, 1, 1, 1, 1, 3, 1, 1, 1, 1, 3, 8, 1, 2, 1, 1, 3, 2, 1, 1, 2, 1, 1, 1, 1, 1, 1, 1, 1, 1, 2, 6, 1, 2, 2, 1, 1, 18, 1, 1, 2, 1, 1, 1, 1, 2, 2, 1, 1, 1, 2, 2, 1, 1, 1, 1, 2, 1, 1, 4, 1, 1, 2, 1, 1, 2, 2, 1, 1, 1, 5, 1, 2, 2, 1, 1, 2, 1, 1, 1, 1, 2, 1, 2, 1]\n",
      "2.4406175771971497\n",
      "0.7392139349353606\n"
     ]
    }
   ],
   "source": [
    "\n",
    "##CHECK IF ALL FEATURES AND ATTRIBUTES ARE CORRECTLY ENTERED IN THE PIPELINE\n",
    "from math import floor\n",
    "print(\"RFC MODEL \\n\", rfcmodel)\n",
    "predictions = rfcmodel.predict(x_test)\n",
    "predictions = [round(item, 0) for item in predictions]\n",
    "predictions = [floor(item) for item in predictions]\n",
    "print(predictions)\n",
    "print(metrics.mean_squared_error(y_test, predictions))\n",
    "print(metrics.r2_score(y_test, predictions))\n"
   ]
  },
  {
   "cell_type": "code",
   "execution_count": null,
   "metadata": {},
   "outputs": [],
   "source": [
    "# R2 SCORE SHOULD BE BTN 0 - 1 BUT CAN BE NEG GIVING NEG CORRELATION \n",
    "#BEST THING IS R SCORE SHUD BE CLOSER TO 1\n",
    "\n",
    "#MSE / MEAN OF THE TARTGET COLUMN *100 = 10 -20 % "
   ]
  }
 ],
 "metadata": {
  "kernelspec": {
   "display_name": "Python 3.8.0 64-bit",
   "language": "python",
   "name": "python3"
  },
  "language_info": {
   "codemirror_mode": {
    "name": "ipython",
    "version": 3
   },
   "file_extension": ".py",
   "mimetype": "text/x-python",
   "name": "python",
   "nbconvert_exporter": "python",
   "pygments_lexer": "ipython3",
   "version": "3.8.0"
  },
  "orig_nbformat": 4,
  "vscode": {
   "interpreter": {
    "hash": "487acb9842d8095dac2e913feb60ee0b44b48734a1be0e28ba63bd119002e57c"
   }
  }
 },
 "nbformat": 4,
 "nbformat_minor": 2
}
